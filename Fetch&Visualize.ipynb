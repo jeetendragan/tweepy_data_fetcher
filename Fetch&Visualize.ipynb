{
 "cells": [
  {
   "cell_type": "code",
   "execution_count": 15,
   "metadata": {},
   "outputs": [],
   "source": [
    "from __future__ import print_function\n",
    "from ipywidgets import interact, interactive, fixed, interact_manual\n",
    "import ipywidgets as widgets\n",
    "from ipywidgets import FloatSlider\n",
    "\n",
    "from tweepy.streaming import StreamListener\n",
    "from tweepy import OAuthHandler\n",
    "from tweepy import Stream\n",
    "\n",
    "import credentials\n",
    "import json\n",
    "import threading"
   ]
  },
  {
   "cell_type": "code",
   "execution_count": 11,
   "metadata": {},
   "outputs": [],
   "source": [
    "tweets = []\n",
    "tweets_without_text = []\n",
    "class StdOutLinstener(StreamListener):\n",
    "    def on_data(self, data):\n",
    "        data_json = json.loads(data)\n",
    "        clear_output()\n",
    "        if 'text' in data_json:\n",
    "            print(data_json['text'])\n",
    "            tweets.append(data_json['text'])\n",
    "        else:\n",
    "            tweets_without_text.append(data_json)\n",
    "        return True        \n",
    "    \n",
    "    def on_error(self, status):\n",
    "        print(status)\n",
    "        return True"
   ]
  },
  {
   "cell_type": "code",
   "execution_count": 18,
   "metadata": {},
   "outputs": [
    {
     "name": "stdout",
     "output_type": "stream",
     "text": [
      "RT @srivatsayb: FACTS\n",
      "\n",
      "🔸BJP was in power with VP Singh in 1989, J&amp;K under Presidents Rule\n",
      "\n",
      "🔸BJP leader Jagmohan, Minister under Vajpayee, w…\n"
     ]
    }
   ],
   "source": [
    "tags = []\n",
    "from IPython.display import clear_output\n",
    "def callbk(event):\n",
    "    tags.append(text_widget.value)\n",
    "    clear_output()\n",
    "    text_widget.value = ''\n",
    "    display(text_widget)\n",
    "    display(add_tag_btn)\n",
    "    display(clear_tags_btn)\n",
    "    display(fetch_btn)\n",
    "    print(tags)\n",
    "    \n",
    "def clear_tags_callbk(event):\n",
    "    tags.clear()\n",
    "    clear_output()\n",
    "    text_widget.value = ''\n",
    "    display(text_widget)\n",
    "    display(add_tag_btn)\n",
    "    display(clear_tags_btn)\n",
    "    display(fetch_btn)\n",
    "    print(tags)\n",
    "\n",
    "def fetch_tweets_thread():\n",
    "    listener = StdOutLinstener()\n",
    "    auth = OAuthHandler(credentials.CONSUMER_KEY, credentials.CONSUMER_SECRET)\n",
    "    auth.set_access_token(credentials.ACCESS_TOKEN, credentials.ACCESS_TOKEN_SECRET)\n",
    "    stream = Stream(auth, listener)\n",
    "    stream.filter(track = tags)\n",
    "    \n",
    "t = {}\n",
    "def fetch_tweets_callbk(event):\n",
    "    t = threading.Thread(target=fetch_tweets_thread)\n",
    "    t.start()\n",
    "\n",
    "def stop_fetch_callbk(event):\n",
    "    t._stop()"
   ]
  },
  {
   "cell_type": "code",
   "execution_count": 16,
   "metadata": {},
   "outputs": [
    {
     "name": "stdout",
     "output_type": "stream",
     "text": [
      "The voices for justice will keep persisting till rights of people in #Kashmir &amp; rest of India are not acknowledged… https://t.co/4pG8Fh0dJ3\n"
     ]
    }
   ],
   "source": [
    "text_widget = widgets.Text(\n",
    "    placeholder='trump',\n",
    "    description='Tag:',\n",
    "    disabled=False\n",
    ")\n",
    "\n",
    "add_tag_btn = widgets.Button(\n",
    "    description='Add tag',\n",
    "    disabled=False,\n",
    "    tooltip='Add Tag'\n",
    ")\n",
    "\n",
    "clear_tags_btn = widgets.Button(\n",
    "    description='Clear tags',\n",
    "    disabled=False,\n",
    "    tooltip='Clear tags'\n",
    ")\n",
    "\n",
    "fetch_btn = widgets.Button(\n",
    "    description = 'Fetch tweets'\n",
    ")\n",
    "\n",
    "add_tag_btn.on_click(callbk)\n",
    "clear_tags_btn.on_click(clear_tags_callbk)\n",
    "fetch_btn.on_click(fetch_tweets_callbk)\n",
    "\n",
    "display(text_widget)\n",
    "display(add_tag_btn)\n",
    "display(clear_tags_btn)\n",
    "display(fetch_btn)"
   ]
  },
  {
   "cell_type": "code",
   "execution_count": 21,
   "metadata": {},
   "outputs": [
    {
     "name": "stdout",
     "output_type": "stream",
     "text": [
      "RT @Aabhas24: Can @ShashiTharoor explain how does #CAA affects any Indian?\n",
      "\n",
      "Can he further explain why if even nation like Pakistan have re…\n"
     ]
    }
   ],
   "source": [
    "stop_btn = widgets.Button(description = 'Stop')\n",
    "display(stop_btn)"
   ]
  },
  {
   "cell_type": "code",
   "execution_count": null,
   "metadata": {},
   "outputs": [],
   "source": []
  }
 ],
 "metadata": {
  "kernelspec": {
   "display_name": "Python 3",
   "language": "python",
   "name": "python3"
  },
  "language_info": {
   "codemirror_mode": {
    "name": "ipython",
    "version": 3
   },
   "file_extension": ".py",
   "mimetype": "text/x-python",
   "name": "python",
   "nbconvert_exporter": "python",
   "pygments_lexer": "ipython3",
   "version": "3.6.9"
  }
 },
 "nbformat": 4,
 "nbformat_minor": 2
}
