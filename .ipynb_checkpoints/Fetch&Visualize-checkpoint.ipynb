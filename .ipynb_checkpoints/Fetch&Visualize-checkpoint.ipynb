{
 "cells": [
  {
   "cell_type": "code",
   "execution_count": 10,
   "metadata": {},
   "outputs": [],
   "source": [
    "from __future__ import print_function\n",
    "from ipywidgets import interact, interactive, fixed, interact_manual\n",
    "import ipywidgets as widgets\n",
    "from ipywidgets import FloatSlider\n",
    "\n",
    "from tweepy.streaming import StreamListener\n",
    "from tweepy import OAuthHandler\n",
    "from tweepy import Stream\n",
    "\n",
    "import credentials\n",
    "import json\n",
    "import threading"
   ]
  },
  {
   "cell_type": "code",
   "execution_count": 11,
   "metadata": {},
   "outputs": [],
   "source": [
    "tweets = []\n",
    "tweets_without_text = []\n",
    "class StdOutLinstener(StreamListener):\n",
    "    def on_data(self, data):\n",
    "        data_json = json.loads(data)\n",
    "        clear_output()\n",
    "        if 'text' in data_json:\n",
    "            print(data_json['text'])\n",
    "            tweets.append(data_json['text'])\n",
    "        else:\n",
    "            tweets_without_text.append(data_json)\n",
    "        return True        \n",
    "    \n",
    "    def on_error(self, status):\n",
    "        print(status)\n",
    "        return True"
   ]
  },
  {
   "cell_type": "code",
   "execution_count": 12,
   "metadata": {},
   "outputs": [],
   "source": [
    "tags = []\n",
    "from IPython.display import clear_output\n",
    "def callbk(event):\n",
    "    tags.append(text_widget.value)\n",
    "    clear_output()\n",
    "    text_widget.value = ''\n",
    "    display(text_widget)\n",
    "    display(add_tag_btn)\n",
    "    display(clear_tags_btn)\n",
    "    display(fetch_btn)\n",
    "    print(tags)\n",
    "    \n",
    "def clear_tags_callbk(event):\n",
    "    tags.clear()\n",
    "    clear_output()\n",
    "    text_widget.value = ''\n",
    "    display(text_widget)\n",
    "    display(add_tag_btn)\n",
    "    display(clear_tags_btn)\n",
    "    display(fetch_btn)\n",
    "    print(tags)\n",
    "\n",
    "def fetch_tweets_thread():\n",
    "    listener = StdOutLinstener()\n",
    "    auth = OAuthHandler(credentials.CONSUMER_KEY, credentials.CONSUMER_SECRET)\n",
    "    auth.set_access_token(credentials.ACCESS_TOKEN, credentials.ACCESS_TOKEN_SECRET)\n",
    "    stream = Stream(auth, listener)\n",
    "    stream.filter(track = tags)\n",
    "    \n",
    "t = {}\n",
    "def fetch_tweets_callbk(event):\n",
    "    t = threading.Thread(target=fetch_tweets_thread)\n",
    "    t.start()\n",
    "\n",
    "def stop_fetch_callbk(event):\n",
    "    t.stop()"
   ]
  },
  {
   "cell_type": "code",
   "execution_count": 13,
   "metadata": {},
   "outputs": [
    {
     "data": {
      "application/vnd.jupyter.widget-view+json": {
       "model_id": "a64d5be32a8b485fba624a94587c171f",
       "version_major": 2,
       "version_minor": 0
      },
      "text/plain": [
       "Text(value='', description='Tag:', placeholder='trump')"
      ]
     },
     "metadata": {},
     "output_type": "display_data"
    },
    {
     "data": {
      "application/vnd.jupyter.widget-view+json": {
       "model_id": "cf208d01f0e44a7da88bc33b0f592322",
       "version_major": 2,
       "version_minor": 0
      },
      "text/plain": [
       "Button(description='Add tag', style=ButtonStyle(), tooltip='Add Tag')"
      ]
     },
     "metadata": {},
     "output_type": "display_data"
    },
    {
     "data": {
      "application/vnd.jupyter.widget-view+json": {
       "model_id": "c7b54d81d2444f51b5206f0d20dc7bde",
       "version_major": 2,
       "version_minor": 0
      },
      "text/plain": [
       "Button(description='Clear tags', style=ButtonStyle(), tooltip='Clear tags')"
      ]
     },
     "metadata": {},
     "output_type": "display_data"
    },
    {
     "data": {
      "application/vnd.jupyter.widget-view+json": {
       "model_id": "075f0f73bae64549af41e261d69e485f",
       "version_major": 2,
       "version_minor": 0
      },
      "text/plain": [
       "Button(description='Fetch tweets', style=ButtonStyle())"
      ]
     },
     "metadata": {},
     "output_type": "display_data"
    },
    {
     "name": "stdout",
     "output_type": "stream",
     "text": [
      "['modi']\n"
     ]
    },
    {
     "ename": "NameError",
     "evalue": "name 'threading' is not defined",
     "output_type": "error",
     "traceback": [
      "\u001b[0;31m---------------------------------------------------------------------------\u001b[0m",
      "\u001b[0;31mNameError\u001b[0m                                 Traceback (most recent call last)",
      "\u001b[0;32m<ipython-input-12-032f85322882>\u001b[0m in \u001b[0;36mfetch_tweets_callbk\u001b[0;34m(event)\u001b[0m\n\u001b[1;32m     30\u001b[0m \u001b[0mt\u001b[0m \u001b[0;34m=\u001b[0m \u001b[0;34m{\u001b[0m\u001b[0;34m}\u001b[0m\u001b[0;34m\u001b[0m\u001b[0;34m\u001b[0m\u001b[0m\n\u001b[1;32m     31\u001b[0m \u001b[0;32mdef\u001b[0m \u001b[0mfetch_tweets_callbk\u001b[0m\u001b[0;34m(\u001b[0m\u001b[0mevent\u001b[0m\u001b[0;34m)\u001b[0m\u001b[0;34m:\u001b[0m\u001b[0;34m\u001b[0m\u001b[0;34m\u001b[0m\u001b[0m\n\u001b[0;32m---> 32\u001b[0;31m     \u001b[0mt\u001b[0m \u001b[0;34m=\u001b[0m \u001b[0mthreading\u001b[0m\u001b[0;34m.\u001b[0m\u001b[0mThread\u001b[0m\u001b[0;34m(\u001b[0m\u001b[0mtarget\u001b[0m\u001b[0;34m=\u001b[0m\u001b[0mfetch_tweets_thread\u001b[0m\u001b[0;34m)\u001b[0m\u001b[0;34m\u001b[0m\u001b[0;34m\u001b[0m\u001b[0m\n\u001b[0m\u001b[1;32m     33\u001b[0m     \u001b[0mt\u001b[0m\u001b[0;34m.\u001b[0m\u001b[0mstart\u001b[0m\u001b[0;34m(\u001b[0m\u001b[0;34m)\u001b[0m\u001b[0;34m\u001b[0m\u001b[0;34m\u001b[0m\u001b[0m\n\u001b[1;32m     34\u001b[0m \u001b[0;34m\u001b[0m\u001b[0m\n",
      "\u001b[0;31mNameError\u001b[0m: name 'threading' is not defined"
     ]
    }
   ],
   "source": [
    "text_widget = widgets.Text(\n",
    "    placeholder='trump',\n",
    "    description='Tag:',\n",
    "    disabled=False\n",
    ")\n",
    "\n",
    "add_tag_btn = widgets.Button(\n",
    "    description='Add tag',\n",
    "    disabled=False,\n",
    "    tooltip='Add Tag'\n",
    ")\n",
    "\n",
    "clear_tags_btn = widgets.Button(\n",
    "    description='Clear tags',\n",
    "    disabled=False,\n",
    "    tooltip='Clear tags'\n",
    ")\n",
    "\n",
    "fetch_btn = widgets.Button(\n",
    "    description = 'Fetch tweets'\n",
    ")\n",
    "\n",
    "add_tag_btn.on_click(callbk)\n",
    "clear_tags_btn.on_click(clear_tags_callbk)\n",
    "fetch_btn.on_click(fetch_tweets_callbk)\n",
    "\n",
    "display(text_widget)\n",
    "display(add_tag_btn)\n",
    "display(clear_tags_btn)\n",
    "display(fetch_btn)"
   ]
  },
  {
   "cell_type": "code",
   "execution_count": 14,
   "metadata": {},
   "outputs": [
    {
     "data": {
      "application/vnd.jupyter.widget-view+json": {
       "model_id": "187e4bc863684e03b6e74ca5befb53e1",
       "version_major": 2,
       "version_minor": 0
      },
      "text/plain": [
       "Button(description='Stop', style=ButtonStyle())"
      ]
     },
     "metadata": {},
     "output_type": "display_data"
    }
   ],
   "source": [
    "stop_btn = widgets.Button(description = 'Stop')\n",
    "display(stop_btn)"
   ]
  },
  {
   "cell_type": "code",
   "execution_count": null,
   "metadata": {},
   "outputs": [],
   "source": []
  }
 ],
 "metadata": {
  "kernelspec": {
   "display_name": "Python 3",
   "language": "python",
   "name": "python3"
  },
  "language_info": {
   "codemirror_mode": {
    "name": "ipython",
    "version": 3
   },
   "file_extension": ".py",
   "mimetype": "text/x-python",
   "name": "python",
   "nbconvert_exporter": "python",
   "pygments_lexer": "ipython3",
   "version": "3.6.9"
  }
 },
 "nbformat": 4,
 "nbformat_minor": 2
}
